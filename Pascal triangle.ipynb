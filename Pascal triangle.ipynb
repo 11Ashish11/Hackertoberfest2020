{
 "cells": [
  {
   "cell_type": "code",
   "execution_count": 65,
   "metadata": {},
   "outputs": [
    {
     "name": "stdout",
     "output_type": "stream",
     "text": [
      "Entewr the number of lines7\n",
      "1 \n",
      "1 2 \n",
      "2 3 4 \n",
      "3 4 5 6 \n",
      "4 5 6 7 8 \n",
      "5 6 7 8 9 10 \n",
      "6 7 8 9 10 11 12 \n",
      "\n"
     ]
    }
   ],
   "source": [
    "num=int(input(\"Entewr the number of lines\"))\n",
    "for i in range(0,num):\n",
    "    for j in range(0,i+1):\n",
    "        if(i==0):\n",
    "            print(\"1\", end=\" \")\n",
    "        elif(i>0 and i<=7 ):\n",
    "            print(i+j,end=\" \")\n",
    "        elif(i>1 and i<=7 and j<i-1):\n",
    "            print(i, end=\" \")\n",
    "        \n",
    "    print()\n",
    "print()"
   ]
  },
  {
   "cell_type": "code",
   "execution_count": 60,
   "metadata": {},
   "outputs": [
    {
     "name": "stdout",
     "output_type": "stream",
     "text": [
      "Enter the number of Lines7\n",
      "                     1  \n",
      "                  2  1  2  \n",
      "               3  2  1  2  3  \n",
      "            4  3  2  1  2  3  4  \n",
      "         5  4  3  2  1  2  3  4  5  \n",
      "      6  5  4  3  2  1  2  3  4  5  6  \n",
      "   7  6  5  4  3  2  1  2  3  4  5  6  7  \n"
     ]
    }
   ],
   "source": [
    "num=int(input(\"Enter the number of Lines\"))\n",
    "for i in range(0,num):\n",
    "    for j in range(0,num-i):\n",
    "        print(\"   \",end=\"\")\n",
    "    for k in range(i,-1,-1):\n",
    "        print(k+1,\" \",end=\"\")\n",
    "    for b in range(1,i+1):\n",
    "        if b!=0:\n",
    "            print(b+1,\" \",end=\"\")\n",
    "    print()"
   ]
  },
  {
   "cell_type": "code",
   "execution_count": 68,
   "metadata": {},
   "outputs": [
    {
     "name": "stdout",
     "output_type": "stream",
     "text": [
      "Enter the number of lines7\n",
      "1  \n",
      "1  1  \n",
      "1  2  1  \n",
      "1  3  3  1  \n",
      "1  4  6  4  1  \n",
      "1  5  10  10  5  1  \n",
      "1  6  15  20  15  6  1  \n"
     ]
    }
   ],
   "source": [
    "def printPascal(n) : \n",
    "    for line in range(0, n) : \n",
    "        for i in range(0, line + 1) : \n",
    "            print(binomialCoeff(line, i), \n",
    "                \" \", end = \"\") \n",
    "        print() \n",
    "def binomialCoeff(n, k) : \n",
    "    res = 1\n",
    "    if (k > n - k) : \n",
    "        k = n - k \n",
    "    for i in range(0 , k) : \n",
    "        res = res * (n - i) \n",
    "        res = res // (i + 1) \n",
    "      \n",
    "    return res \n",
    "  \n",
    "# Driver program \n",
    "n = int(input(\"Enter the number of lines\"))\n",
    "printPascal(n) \n",
    "  \n",
    "  "
   ]
  },
  {
   "cell_type": "code",
   "execution_count": null,
   "metadata": {},
   "outputs": [],
   "source": []
  }
 ],
 "metadata": {
  "kernelspec": {
   "display_name": "Python 3",
   "language": "python",
   "name": "python3"
  },
  "language_info": {
   "codemirror_mode": {
    "name": "ipython",
    "version": 3
   },
   "file_extension": ".py",
   "mimetype": "text/x-python",
   "name": "python",
   "nbconvert_exporter": "python",
   "pygments_lexer": "ipython3",
   "version": "3.7.3"
  }
 },
 "nbformat": 4,
 "nbformat_minor": 4
}
