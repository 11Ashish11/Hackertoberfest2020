{
 "cells": [
  {
   "cell_type": "code",
   "execution_count": null,
   "metadata": {},
   "outputs": [],
   "source": []
  },
  {
   "cell_type": "code",
   "execution_count": null,
   "metadata": {},
   "outputs": [],
   "source": [
    "#2\n",
    "from tkinter import *\n",
    "from tkinter import messagebox\n",
    "root=Tk()\n",
    "root.title(\"Login Form\")\n",
    "root.geometry(\"400x200\")\n",
    "L0=Label(root,text=\"Login Form\",fg=\"Black\",font=('Arabic', 18, 'bold')) \n",
    "L0.pack(side=TOP)\n",
    "L1=Label(root,text=\"Email or Phone\",font=('Sans Serif', 10, 'bold'))\n",
    "L1.pack(side=TOP)       # side is used for position of text\n",
    "E1=Entry(root,fg=\"red\",bd=5)  # bd means border size\n",
    "E1.pack(side=TOP)\n",
    "L2=Label(root,text=\"Password\",font=('Sans Serif', 10, 'bold')) \n",
    "L2.pack(side=TOP)       # side is used for position of text\n",
    "E2=Entry(root,fg=\"red\",bd=5)  # bd means border size\n",
    "E2.pack(side=TOP)\n",
    "L3=Label(root,text=\"Forget Password\",font=('Sans Serif', 10, 'bold'))\n",
    "L3.pack(side=TOP)\n",
    "def msg():\n",
    "    messagebox.showinfo(\"Message Window\",\"Login Successfully\")\n",
    "b1=Button(root,text=\"LOGIN\", bg=\"blue\",fg=\"white\",bd=5,command=msg)\n",
    "b1.pack(side=TOP)\n",
    "L4=Label(root,text=\"Not a member? Signup now\")\n",
    "L4.pack(side=TOP)\n",
    "msg()\n",
    "root.mainloop()"
   ]
  },
  {
   "cell_type": "code",
   "execution_count": null,
   "metadata": {},
   "outputs": [],
   "source": []
  }
 ],
 "metadata": {
  "kernelspec": {
   "display_name": "Python 3",
   "language": "python",
   "name": "python3"
  },
  "language_info": {
   "codemirror_mode": {
    "name": "ipython",
    "version": 3
   },
   "file_extension": ".py",
   "mimetype": "text/x-python",
   "name": "python",
   "nbconvert_exporter": "python",
   "pygments_lexer": "ipython3",
   "version": "3.7.3"
  }
 },
 "nbformat": 4,
 "nbformat_minor": 4
}
